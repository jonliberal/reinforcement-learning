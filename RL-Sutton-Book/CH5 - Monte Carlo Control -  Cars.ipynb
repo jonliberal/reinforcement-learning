{
 "cells": [
  {
   "cell_type": "markdown",
   "metadata": {},
   "source": [
    "![title](pictures/race.png)\n",
    "![title](pictures/race2.png)"
   ]
  },
  {
   "cell_type": "code",
   "execution_count": 15,
   "metadata": {},
   "outputs": [],
   "source": [
    "import numpy as np\n",
    "import matplotlib\n",
    "from matplotlib import colors\n",
    "import matplotlib.pyplot as plt\n",
    "def plot_track(data):\n",
    "    grid_size=len(data)\n",
    "    # create discrete colormap\n",
    "    cmap = colors.ListedColormap(['black', 'white','red', 'green', 'blue', 'grey', 'brown'])\n",
    "    bounds = [-2,0,2,4,6,8,10,12]\n",
    "    norm = colors.BoundaryNorm(bounds, cmap.N)\n",
    "\n",
    "    fig, ax = plt.subplots(figsize=(20, 10))\n",
    "    ax.imshow(data, cmap=cmap, norm=norm)\n",
    "\n",
    "    # draw gridlines\n",
    "    ax.grid(which='major', axis='both', linestyle='-', color='k', linewidth=2)\n",
    "    ax.set_xticks(np.arange(-.5, grid_size, 1));\n",
    "    ax.set_yticks(np.arange(-.5, grid_size, 1));\n",
    "\n",
    "\n",
    "    \n",
    "    \n",
    "    plt.show()\n",
    "    \n",
    "\n",
    "def grid_type(w):\n",
    "    if w == 'out':\n",
    "        return -1\n",
    "    if w == 'normal':\n",
    "        return 1\n",
    "    if w == 'start':\n",
    "        return 3\n",
    "    if w == 'end':\n",
    "        return 5\n",
    "def get_path(p1,p2):\n",
    "    print(p1,p2)\n",
    "    \n",
    "    # symmetries\n",
    "    if p1[0] > p2[0]:\n",
    "        p_old = p1\n",
    "        p1 = p2\n",
    "        p2 = p_old\n",
    "    \n",
    "    x1 , y1 = p1\n",
    "    x2 , y2 = p2\n",
    "    \n",
    "    flip = 1\n",
    "    if y1 > y2:\n",
    "        flip = -1\n",
    "        y2 = 2*(y1 + - y2/2)\n",
    "    # extreme cases\n",
    "    if y1 == y2:\n",
    "        return [(x1+e,y1) for e in range(1,x2 - x1 + 1)]\n",
    "    if x1 == x2:\n",
    "        return [(x1,y1+e) for e in range(1,y2 - y1 + 1)] \n",
    "    #print('A')\n",
    "\n",
    "    \n",
    "    # another extreme case\n",
    "    if float(x2-x1 - 1) >0:\n",
    "        m = (y2 - y1 - 1)/float(x2-x1-1)\n",
    "    else:\n",
    "        m = (y2 - y1 - 1)/float(x2-x1)\n",
    "\n",
    "    dx = 0.\n",
    "    dy = 0.\n",
    "    s = int(abs(y2 - y1) + abs(x1-x2))\n",
    "    steps = []\n",
    "\n",
    "    if m>=0.5:\n",
    "        dy += 1.\n",
    "    else:\n",
    "        dx += 1.\n",
    "    steps.append((dx,dy))\n",
    "\n",
    "\n",
    "    for e in range(1,s-1):\n",
    "        if dx == 0:\n",
    "            if m*0.5 <= dy:\n",
    "                dx += 1\n",
    "                steps.append((1,0))\n",
    "            else:\n",
    "                dy +=1\n",
    "                steps.append((0,1))\n",
    "\n",
    "        else:\n",
    "            #print('B')\n",
    "            n = dy/(dx)\n",
    "            #print(n,m)\n",
    "            if n<m:\n",
    "                dy +=1\n",
    "                steps.append((0,1))\n",
    "            else:\n",
    "                dx +=1\n",
    "                steps.append((1,0))\n",
    "    points = [p1]\n",
    "    for s in steps:\n",
    "        points.append((int(s[0])+points[-1][0], int(s[1]*flip)+points[-1][1]))\n",
    "    \n",
    "    if p2 not in points:\n",
    "        points.append(p2)\n",
    "    return points\n",
    "\n"
   ]
  },
  {
   "cell_type": "markdown",
   "metadata": {},
   "source": [
    "## Create example track"
   ]
  },
  {
   "cell_type": "code",
   "execution_count": 16,
   "metadata": {},
   "outputs": [],
   "source": [
    "def create_data(visualization = True):\n",
    "    \n",
    "    grid_size = 30\n",
    "    #white\n",
    "    data = np.ones((grid_size, grid_size))\n",
    "    if visualization:\n",
    "        #start\n",
    "        data[-1:,:] = 3\n",
    "        #end\n",
    "        data[:,-1:] = 5\n",
    "\n",
    "    data[:2,:] = -1\n",
    "    data[:,:2] = -1\n",
    "    data[:11,:12] = -1\n",
    "    data[:18,:7] = -1\n",
    "\n",
    "    data[8:,20:] = -1\n",
    "    data[25:,8:] = -1\n",
    "    data[16:,15:] = -1\n",
    "    return data    #plot_track(data)"
   ]
  },
  {
   "cell_type": "code",
   "execution_count": 17,
   "metadata": {},
   "outputs": [],
   "source": [
    "def is_valid_path(path, data):\n",
    "    for e in path:\n",
    "        if data[e] == -1:\n",
    "            return False\n",
    "    return True"
   ]
  },
  {
   "cell_type": "code",
   "execution_count": 28,
   "metadata": {},
   "outputs": [
    {
     "name": "stdout",
     "output_type": "stream",
     "text": [
      "(13, 13) (21, 8)\n"
     ]
    }
   ],
   "source": [
    "data = create_data(visualization = False)\n",
    "viz = create_data()\n",
    "p1 = (13,13)\n",
    "p2 = (21,8)\n",
    "viz[p2] = 6\n",
    "viz[p1] = 6\n",
    "\n",
    "path = get_path(p1,p2)\n",
    "\n",
    "\n",
    "\n",
    "for e in path:\n",
    "    if data[e] == -1:\n",
    "        viz[e] = 10\n",
    "    else:\n",
    "        viz[e] = 8\n",
    "viz[p2] = 7\n",
    "viz[p1] = 7\n"
   ]
  },
  {
   "cell_type": "code",
   "execution_count": 29,
   "metadata": {},
   "outputs": [
    {
     "data": {
      "image/png": "[encoded data removed]",
      "text/plain": [
       "<Figure size 1440x720 with 1 Axes>"
      ]
     },
     "metadata": {
      "needs_background": "light"
     },
     "output_type": "display_data"
    }
   ],
   "source": [
    "plot_track(viz)"
   ]
  },
  {
   "cell_type": "code",
   "execution_count": null,
   "metadata": {},
   "outputs": [],
   "source": []
  },
  {
   "cell_type": "code",
   "execution_count": null,
   "metadata": {},
   "outputs": [],
   "source": []
  },
  {
   "cell_type": "code",
   "execution_count": null,
   "metadata": {},
   "outputs": [],
   "source": []
  },
  {
   "cell_type": "code",
   "execution_count": null,
   "metadata": {},
   "outputs": [],
   "source": []
  },
  {
   "cell_type": "code",
   "execution_count": null,
   "metadata": {},
   "outputs": [],
   "source": []
  }
 ],
 "metadata": {
  "kernelspec": {
   "display_name": "Python 3",
   "language": "python",
   "name": "python3"
  },
  "language_info": {
   "codemirror_mode": {
    "name": "ipython",
    "version": 3
   },
   "file_extension": ".py",
   "mimetype": "text/x-python",
   "name": "python",
   "nbconvert_exporter": "python",
   "pygments_lexer": "ipython3",
   "version": "3.6.9"
  }
 },
 "nbformat": 4,
 "nbformat_minor": 2
}
