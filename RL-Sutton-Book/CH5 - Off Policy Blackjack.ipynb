{
 "cells": [
  {
   "cell_type": "markdown",
   "metadata": {},
   "source": [
    "![title](pictures/OFFPOL.png)"
   ]
  },
  {
   "cell_type": "code",
   "execution_count": 2,
   "metadata": {},
   "outputs": [],
   "source": [
    "import numpy as np"
   ]
  },
  {
   "cell_type": "markdown",
   "metadata": {},
   "source": [
    "## Importance Sampling Ratio"
   ]
  },
  {
   "cell_type": "markdown",
   "metadata": {},
   "source": [
    "![title](pictures/avg.png)"
   ]
  },
  {
   "cell_type": "code",
   "execution_count": 93,
   "metadata": {},
   "outputs": [],
   "source": [
    "# 1. Initialize\n",
    "number_of_states = 22\n",
    "number_of_actions = 2\n",
    "gamma = 0.7\n",
    "\n",
    "# card probabilities\n",
    "ps = np.ones(10)\n",
    "ps[-2] += 2\n",
    "ps = ps/np.sum(ps)\n",
    "\n",
    "policy= np.ones(number_of_states)\n",
    "policy[-2:] = [0,0]\n",
    "V = np.random.randn(number_of_states, number_of_actions)\n",
    "returns = [[[] for e in range(number_of_actions)] for e in range(number_of_states)]\n",
    "counter = np.zeros_like(Q)\n",
    "\n",
    "#2. Loop\n",
    "\n",
    "episode_set = []\n",
    "reward_set = []\n",
    "for e in range(100000):\n",
    "    s0 = 13\n",
    "    a0 = np.random.randint(0,2)\n",
    "    \n",
    "    \n",
    "    #generate episode\n",
    "    s = s0\n",
    "    a = a0\n",
    "    episode = []\n",
    "    r = 0\n",
    "    terminal = s>21 # false\n",
    "    \n",
    "    while not terminal:\n",
    "        \n",
    "        episode.append((s,a))\n",
    "        \n",
    "        if a == 0:\n",
    "            #stick\n",
    "            banker = np.random.choice(np.arange(2,12), p = ps) + np.random.choice(np.arange(2,12), p = ps)\n",
    "            while banker<17:\n",
    "                banker += np.random.choice(np.arange(2,12), p = ps)\n",
    "            if banker < s:\n",
    "                r = +1\n",
    "            if banker > s:\n",
    "                r = -1\n",
    "            if banker == s:\n",
    "                r = 0\n",
    "            if banker > 21:\n",
    "                r = +1\n",
    "            terminal = True\n",
    "        \n",
    "        else:\n",
    "            #one more\n",
    "            s += np.random.choice(np.arange(2,12), p = ps)\n",
    "            if s>21:\n",
    "                #bust\n",
    "                r = -1\n",
    "                terminal = True\n",
    "            else:\n",
    "                a = np.random.randint(0,2)\n",
    "    episode_set.append(episode)\n",
    "    reward_set.append(r)\n"
   ]
  },
  {
   "cell_type": "markdown",
   "metadata": {},
   "source": [
    "### Importance Sampling Ratio\n",
    "![title](pictures/ISR.png)\n",
    "### Weighted Importance Sampling\n",
    "![title](pictures/avg.png)"
   ]
  },
  {
   "cell_type": "code",
   "execution_count": 94,
   "metadata": {},
   "outputs": [
    {
     "data": {
      "text/plain": [
       "-0.37851509142983036"
      ]
     },
     "execution_count": 94,
     "metadata": {},
     "output_type": "execute_result"
    }
   ],
   "source": [
    "# IMPORTANCE SAMPLING RATIO\n",
    "\n",
    "# probability of taking action a at state s\n",
    "def p_pi(a,s):\n",
    "    return (s>19)^(a)\n",
    "    \n",
    "def p_b(a,s):\n",
    "    return 0.5\n",
    "\n",
    "def ISR(episode):\n",
    "    isr = 1\n",
    "    for (s,a) in episode:\n",
    "        isr *= p_pi(a,s)/p_b(a,s)\n",
    "    return isr\n",
    "\n",
    "g_isrs = []\n",
    "isrs = []\n",
    "gamma = 0.7\n",
    "\n",
    "\n",
    "for e in range(len(episode_set)):\n",
    "    episode = episode_set[e]\n",
    "    r = reward_set[e]\n",
    "    \n",
    "    G = r * gamma**(len(episode))\n",
    "    isr = ISR(episode)\n",
    "    g_isrs.append(G*isr)\n",
    "    isrs.append(isr)\n",
    "np.sum(g_isrs)/ np.sum(isrs)"
   ]
  },
  {
   "cell_type": "code",
   "execution_count": null,
   "metadata": {},
   "outputs": [],
   "source": []
  },
  {
   "cell_type": "code",
   "execution_count": null,
   "metadata": {},
   "outputs": [],
   "source": []
  }
 ],
 "metadata": {
  "kernelspec": {
   "display_name": "Python 3",
   "language": "python",
   "name": "python3"
  },
  "language_info": {
   "codemirror_mode": {
    "name": "ipython",
    "version": 3
   },
   "file_extension": ".py",
   "mimetype": "text/x-python",
   "name": "python",
   "nbconvert_exporter": "python",
   "pygments_lexer": "ipython3",
   "version": "3.6.9"
  }
 },
 "nbformat": 4,
 "nbformat_minor": 2
}
