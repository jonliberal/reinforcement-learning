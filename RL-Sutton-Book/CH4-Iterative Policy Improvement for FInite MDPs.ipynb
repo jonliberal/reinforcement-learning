{
 "cells": [
  {
   "cell_type": "markdown",
   "metadata": {},
   "source": [
    "![title](pictures/grid.png)"
   ]
  },
  {
   "cell_type": "code",
   "execution_count": 110,
   "metadata": {},
   "outputs": [],
   "source": [
    "import numpy as np\n",
    "def next_s(s,a):\n",
    "    \n",
    "    # Special states and rewards\n",
    "    # A\n",
    "    if s == (0,1):\n",
    "        return (4,1), 10\n",
    "    # B\n",
    "    if s == (0,3):\n",
    "        return (2,3), 5\n",
    "    \n",
    "    # Corner cases\n",
    "    sy, sx = s\n",
    "    r = -1\n",
    "    # North\n",
    "    if sy == 0 and a==0:\n",
    "        return s,r\n",
    "    # East\n",
    "    if sx == 4 and a==1:\n",
    "        return s,r\n",
    "    # South\n",
    "    if sy == 4 and a==2:\n",
    "        return s,r\n",
    "    # West\n",
    "    if sx == 0 and a==3:\n",
    "        return s,r\n",
    "    \n",
    "    # Regular cases\n",
    "    r = 0\n",
    "    # move agent\n",
    "    sy += ((a+1)%2)*(a-1)\n",
    "    sx += ((a)%2)*(2-a)\n",
    "    new_s = (int(sy),int(sx))\n",
    "    return new_s, r"
   ]
  },
  {
   "cell_type": "markdown",
   "metadata": {},
   "source": [
    "# Policy improvement"
   ]
  },
  {
   "cell_type": "markdown",
   "metadata": {},
   "source": [
    "![title](pictures/policyeval.png)"
   ]
  },
  {
   "cell_type": "code",
   "execution_count": 111,
   "metadata": {},
   "outputs": [],
   "source": [
    "# 1. Initialization\n",
    "\n",
    "## Actions \n",
    "A = [0,1,2,3] # north, east, south, west\n",
    "\n",
    "\n",
    "## Initialize random policy\n",
    "\n",
    "policy = np.zeros((5,5))\n",
    "for i in range(5):\n",
    "    for j in range(5):\n",
    "        policy[i][j] = np.random.choice(A)\n",
    "\n",
    "## Initialize random V values\n",
    "V = np.random.randn(5,5)\n",
    "\n",
    "\n",
    "\n",
    "\n",
    "policy_stable = False\n",
    "while not policy_stable:\n",
    "    # 2. Policy Evaluation\n",
    "\n",
    "    delta = 1.\n",
    "    epsilon = 0.01\n",
    "    gamma = 0.9\n",
    "\n",
    "    while delta > epsilon:\n",
    "        delta = 0\n",
    "        for i in range(5):\n",
    "            for j in range(5):\n",
    "                s = (i,j) # state\n",
    "                v = V[s] # state value\n",
    "                s_next, r = next_s(s,policy[s]) # next state and reward\n",
    "                #print(s_next, r)\n",
    "\n",
    "                V[s] = r + gamma*V[s_next] # V update\n",
    "                #print(v)\n",
    "                #print(V[s])\n",
    "                delta = np.max([delta, np.abs(v- V[s])])\n",
    "\n",
    "    # 3. Policy Improvement\n",
    "\n",
    "    policy_stable = True\n",
    "    for i in range(5):\n",
    "        for j in range(5):\n",
    "            s = (i,j)\n",
    "            old_action = policy[s]\n",
    "            policy[s] = np.argmax([next_s(s,action)[1] + gamma*V[next_s(s,action)[0]] for action in range(4)])\n",
    "            if old_action != policy[s]:\n",
    "                policy_stable = False\n",
    "\n",
    "            \n",
    "            \n",
    "\n",
    "\n"
   ]
  },
  {
   "cell_type": "markdown",
   "metadata": {},
   "source": [
    "![title](pictures/Gridworld.png)"
   ]
  },
  {
   "cell_type": "markdown",
   "metadata": {},
   "source": [
    "## My results :)"
   ]
  },
  {
   "cell_type": "markdown",
   "metadata": {},
   "source": [
    "### Optimal policy"
   ]
  },
  {
   "cell_type": "code",
   "execution_count": 112,
   "metadata": {},
   "outputs": [
    {
     "name": "stdout",
     "output_type": "stream",
     "text": [
      "[[1. 0. 3. 0. 3.]\n",
      " [1. 0. 0. 3. 3.]\n",
      " [1. 0. 0. 0. 0.]\n",
      " [1. 0. 0. 0. 0.]\n",
      " [1. 0. 0. 0. 0.]]\n"
     ]
    }
   ],
   "source": [
    "print(policy)"
   ]
  },
  {
   "cell_type": "markdown",
   "metadata": {},
   "source": [
    "### Optimal v with gamma=0.9:"
   ]
  },
  {
   "cell_type": "code",
   "execution_count": 113,
   "metadata": {},
   "outputs": [
    {
     "name": "stdout",
     "output_type": "stream",
     "text": [
      "[[22.  24.4 22.  19.4 17.5]\n",
      " [19.8 22.  19.8 17.8 16. ]\n",
      " [17.8 19.8 17.8 16.  14.4]\n",
      " [16.  17.8 16.  14.4 13. ]\n",
      " [14.4 16.  14.4 13.  11.7]]\n"
     ]
    }
   ],
   "source": [
    "print(np.round(V,1))"
   ]
  },
  {
   "cell_type": "markdown",
   "metadata": {},
   "source": [
    "# Conclusion\n",
    "\n",
    "### If we have a completely defined Markov Decision Process, we can easily obtain the optimal policy iteratively\n"
   ]
  }
 ],
 "metadata": {
  "kernelspec": {
   "display_name": "Python 3",
   "language": "python",
   "name": "python3"
  },
  "language_info": {
   "codemirror_mode": {
    "name": "ipython",
    "version": 3
   },
   "file_extension": ".py",
   "mimetype": "text/x-python",
   "name": "python",
   "nbconvert_exporter": "python",
   "pygments_lexer": "ipython3",
   "version": "3.6.9"
  }
 },
 "nbformat": 4,
 "nbformat_minor": 2
}
